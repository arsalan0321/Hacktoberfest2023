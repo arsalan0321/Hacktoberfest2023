{
 "cells": [
  {
   "cell_type": "markdown",
   "id": "8064aed3",
   "metadata": {},
   "source": [
    "## Uniform Cost Search (UCS)"
   ]
  },
  {
   "cell_type": "code",
   "execution_count": 1,
   "id": "28433bb5",
   "metadata": {},
   "outputs": [
    {
     "name": "stdout",
     "output_type": "stream",
     "text": [
      "Uniform Cost Search: Goal node reached! Explored nodes: {'C', 'D', 'A', 'B', 'E', 'G', 'F'}\n"
     ]
    }
   ],
   "source": [
    "import heapq\n",
    "\n",
    "def uniform_cost_search(graph, start, goal):\n",
    "    explored = set()\n",
    "    priority_queue = [(0, start)]\n",
    "    \n",
    "    while priority_queue:\n",
    "        cost, node = heapq.heappop(priority_queue)\n",
    "        \n",
    "        if node in explored:\n",
    "            continue\n",
    "        \n",
    "        explored.add(node)\n",
    "        \n",
    "        if node == goal:\n",
    "            return explored  # Return the set of explored nodes\n",
    "        \n",
    "        for neighbor, neighbor_cost in graph[node]:\n",
    "            if neighbor not in explored:\n",
    "                heapq.heappush(priority_queue, (cost + neighbor_cost, neighbor))\n",
    "    \n",
    "    return None  # Return None if the goal is not reachable\n",
    "\n",
    "# Define a sample graph as an adjacency list\n",
    "graph = {\n",
    "    'A': [('B', 1), ('C', 3)],\n",
    "    'B': [('D', 5), ('E', 7)],\n",
    "    'C': [('F', 2)],\n",
    "    'D': [('G', 4)],\n",
    "    'E': [('G', 6)],\n",
    "    'F': [('G', 3)],\n",
    "    'G': []\n",
    "}\n",
    "\n",
    "start_node = 'A'\n",
    "goal_node = 'G'\n",
    "\n",
    "explored_nodes = uniform_cost_search(graph, start_node, goal_node)\n",
    "if explored_nodes is not None:\n",
    "    print(\"Uniform Cost Search: Goal node reached! Explored nodes:\", explored_nodes)\n",
    "else:\n",
    "    print(\"Uniform Cost Search: Goal node not reachable.\")\n"
   ]
  },
  {
   "cell_type": "code",
   "execution_count": null,
   "id": "05efa362",
   "metadata": {},
   "outputs": [],
   "source": []
  }
 ],
 "metadata": {
  "kernelspec": {
   "display_name": "Python 3 (ipykernel)",
   "language": "python",
   "name": "python3"
  },
  "language_info": {
   "codemirror_mode": {
    "name": "ipython",
    "version": 3
   },
   "file_extension": ".py",
   "mimetype": "text/x-python",
   "name": "python",
   "nbconvert_exporter": "python",
   "pygments_lexer": "ipython3",
   "version": "3.11.5"
  }
 },
 "nbformat": 4,
 "nbformat_minor": 5
}
